{
 "cells": [
  {
   "cell_type": "code",
   "execution_count": 110,
   "id": "e3ad5694",
   "metadata": {},
   "outputs": [
    {
     "data": {
      "text/html": [
       "<style>.container{width:99%}</style>\n"
      ],
      "text/plain": [
       "<IPython.core.display.HTML object>"
      ]
     },
     "metadata": {},
     "output_type": "display_data"
    }
   ],
   "source": [
    "%%html\n",
    "<style>.container{width:99%}</style>"
   ]
  },
  {
   "cell_type": "code",
   "execution_count": 71,
   "id": "7ca2e4bb",
   "metadata": {},
   "outputs": [],
   "source": [
    "from pathlib import Path\n",
    "\n",
    "import numpy as np\n",
    "import pandas as pd\n",
    "\n",
    "from reproml.config import etl_conf as ec, ml_conf\n",
    "from reproml.etl.utils import download_url"
   ]
  },
  {
   "cell_type": "code",
   "execution_count": 20,
   "id": "cb4bde8f",
   "metadata": {},
   "outputs": [],
   "source": [
    "df = pd.read_csv(dstpath/Path(url).name)"
   ]
  },
  {
   "cell_type": "code",
   "execution_count": 6,
   "id": "c1a6d3c8",
   "metadata": {},
   "outputs": [
    {
     "data": {
      "text/plain": [
       "'https://github.com/tmthyjames/cypher/raw/master/notebooks/lyrics1.csv.zip'"
      ]
     },
     "execution_count": 6,
     "metadata": {},
     "output_type": "execute_result"
    }
   ],
   "source": [
    "etl_conf.lyrics.source[0].url"
   ]
  },
  {
   "cell_type": "code",
   "execution_count": 17,
   "id": "9a790246",
   "metadata": {},
   "outputs": [],
   "source": [
    "dstpath: str = es.root_path / es.raw_data_path / es.lyrics.path\n",
    "dstpath = Path(dstpath)\n",
    "\n",
    "for source in es.lyrics.source:\n",
    "    url, filename = source.get('url'), source.get('filename')\n",
    "    download_url(url, Path(url).name, dstpath)"
   ]
  },
  {
   "cell_type": "code",
   "execution_count": 40,
   "id": "0b21ecce",
   "metadata": {},
   "outputs": [],
   "source": [
    "lyrics_files = [i for i in dstpath.glob(\"lyrics*.zip\")]\n",
    "\n",
    "lyrics_df = pd.concat((pd.read_csv(f) for f in lyrics_files), ignore_index=True)"
   ]
  },
  {
   "cell_type": "code",
   "execution_count": 57,
   "id": "8694d55b",
   "metadata": {},
   "outputs": [],
   "source": [
    "lyrics_df['ranker_genre'] = np.where(\n",
    "    (lyrics_df['ranker_genre'] == 'screamo')|\n",
    "    (lyrics_df['ranker_genre'] == 'punk rock')|\n",
    "    (lyrics_df['ranker_genre'] == 'heavy metal'), \n",
    "    'alt rock', \n",
    "    lyrics_df['ranker_genre']\n",
    ")"
   ]
  },
  {
   "cell_type": "code",
   "execution_count": 49,
   "id": "a19759da",
   "metadata": {},
   "outputs": [],
   "source": [
    "from sklearn.utils import shuffle\n",
    "from nltk.corpus import stopwords"
   ]
  },
  {
   "cell_type": "code",
   "execution_count": 59,
   "id": "6da8bca1",
   "metadata": {},
   "outputs": [
    {
     "name": "stderr",
     "output_type": "stream",
     "text": [
      "/var/folders/dv/f_84y86n4bs6c42_c_fpqklh0000gn/T/ipykernel_10271/1233240465.py:8: FutureWarning: The default value of regex will change from True to False in a future version.\n",
      "  lyrics_by_song[\"lyric\"] = lyrics_by_song['lyric'].str.replace(r'[^\\w\\s]','')\n"
     ]
    }
   ],
   "source": [
    "group = ['song', 'year', 'album', 'genre', 'artist', 'ranker_genre']\n",
    "lyrics_by_song = lyrics_df.sort_values(group)\\\n",
    "        .groupby(group).lyric\\\n",
    "        .apply(' '.join)\\\n",
    "        .apply(lambda x: x.lower())\\\n",
    "        .reset_index(name='lyric')\n",
    "\n",
    "lyrics_by_song[\"lyric\"] = lyrics_by_song['lyric'].str.replace(r'[^\\w\\s]','')"
   ]
  },
  {
   "cell_type": "code",
   "execution_count": 61,
   "id": "ce26e361",
   "metadata": {},
   "outputs": [
    {
     "data": {
      "text/plain": [
       "alt rock            31472\n",
       "classic rock        29453\n",
       "Country             27175\n",
       "rhythm and blues    13167\n",
       "Hip Hop             11662\n",
       "indie folk           6297\n",
       "pop                  3590\n",
       "Name: ranker_genre, dtype: int64"
      ]
     },
     "execution_count": 61,
     "metadata": {},
     "output_type": "execute_result"
    }
   ],
   "source": [
    "lyrics_by_song['ranker_genre'].value_counts()"
   ]
  },
  {
   "cell_type": "code",
   "execution_count": 91,
   "id": "69fdb740",
   "metadata": {},
   "outputs": [],
   "source": [
    "pp = ec.root_path / ec.processed_data_path / ec.lyrics.path\n",
    "\n",
    "lyrics_files = [i for i in pp.glob(\"*/*\")]\n",
    "\n",
    "lyrics_by_song = pd.concat((pd.read_parquet(f) for f in lyrics_files), ignore_index=True)"
   ]
  },
  {
   "cell_type": "code",
   "execution_count": null,
   "id": "5f80d693",
   "metadata": {},
   "outputs": [],
   "source": []
  },
  {
   "cell_type": "code",
   "execution_count": 93,
   "id": "9513c0c3",
   "metadata": {},
   "outputs": [],
   "source": [
    "msk = np.random.rand(len(lyrics_by_song)) < 0.8\n",
    "\n",
    "train = lyrics_by_song[msk]\n",
    "\n",
    "test = lyrics_by_song[~msk]"
   ]
  },
  {
   "cell_type": "code",
   "execution_count": null,
   "id": "61a3748a",
   "metadata": {},
   "outputs": [],
   "source": []
  },
  {
   "cell_type": "code",
   "execution_count": 64,
   "id": "985934bf",
   "metadata": {},
   "outputs": [
    {
     "name": "stderr",
     "output_type": "stream",
     "text": [
      "/var/folders/dv/f_84y86n4bs6c42_c_fpqklh0000gn/T/ipykernel_10271/2475517085.py:18: FutureWarning: The frame.append method is deprecated and will be removed from pandas in a future version. Use pandas.concat instead.\n",
      "  train_df = train_df.append(train_set) # append subsets to the master sets\n",
      "/var/folders/dv/f_84y86n4bs6c42_c_fpqklh0000gn/T/ipykernel_10271/2475517085.py:19: FutureWarning: The frame.append method is deprecated and will be removed from pandas in a future version. Use pandas.concat instead.\n",
      "  test_df = test_df.append(test_set)\n",
      "/var/folders/dv/f_84y86n4bs6c42_c_fpqklh0000gn/T/ipykernel_10271/2475517085.py:18: FutureWarning: The frame.append method is deprecated and will be removed from pandas in a future version. Use pandas.concat instead.\n",
      "  train_df = train_df.append(train_set) # append subsets to the master sets\n",
      "/var/folders/dv/f_84y86n4bs6c42_c_fpqklh0000gn/T/ipykernel_10271/2475517085.py:19: FutureWarning: The frame.append method is deprecated and will be removed from pandas in a future version. Use pandas.concat instead.\n",
      "  test_df = test_df.append(test_set)\n",
      "/var/folders/dv/f_84y86n4bs6c42_c_fpqklh0000gn/T/ipykernel_10271/2475517085.py:18: FutureWarning: The frame.append method is deprecated and will be removed from pandas in a future version. Use pandas.concat instead.\n",
      "  train_df = train_df.append(train_set) # append subsets to the master sets\n",
      "/var/folders/dv/f_84y86n4bs6c42_c_fpqklh0000gn/T/ipykernel_10271/2475517085.py:19: FutureWarning: The frame.append method is deprecated and will be removed from pandas in a future version. Use pandas.concat instead.\n",
      "  test_df = test_df.append(test_set)\n"
     ]
    }
   ],
   "source": [
    "\n",
    "genres = [\n",
    "    'Country', 'alt rock', 'Hip Hop',\n",
    "]\n",
    "\n",
    "LYRIC_LEN = 400 # each song has to be 400 characters\n",
    "N = 10000 # number of records to pull from each genre\n",
    "RANDOM_SEED = 42 # random seed to make results repeatable\n",
    "\n",
    "train_df = pd.DataFrame()\n",
    "test_df = pd.DataFrame()\n",
    "for genre in genres: # loop over each genre\n",
    "    subset = lyrics_by_song[ # create a subset \n",
    "        (lyrics_by_song.ranker_genre==genre) & \n",
    "        (lyrics_by_song.lyric.str.len()>=LYRIC_LEN)\n",
    "    ]\n",
    "    train_set = subset.sample(n=N, random_state=RANDOM_SEED)\n",
    "    test_set = subset.drop(train_set.index)\n",
    "    train_df = train_df.append(train_set) # append subsets to the master sets\n",
    "    test_df = test_df.append(test_set)\n",
    "    \n",
    "train_df = shuffle(train_df)\n",
    "test_df = shuffle(test_df)"
   ]
  },
  {
   "cell_type": "code",
   "execution_count": 104,
   "id": "255ed3f5",
   "metadata": {
    "scrolled": false
   },
   "outputs": [
    {
     "data": {
      "text/html": [
       "<div>\n",
       "<style scoped>\n",
       "    .dataframe tbody tr th:only-of-type {\n",
       "        vertical-align: middle;\n",
       "    }\n",
       "\n",
       "    .dataframe tbody tr th {\n",
       "        vertical-align: top;\n",
       "    }\n",
       "\n",
       "    .dataframe thead th {\n",
       "        text-align: right;\n",
       "    }\n",
       "</style>\n",
       "<table border=\"1\" class=\"dataframe\">\n",
       "  <thead>\n",
       "    <tr style=\"text-align: right;\">\n",
       "      <th></th>\n",
       "      <th>song</th>\n",
       "      <th>album</th>\n",
       "      <th>genre</th>\n",
       "      <th>artist</th>\n",
       "      <th>ranker_genre</th>\n",
       "      <th>lyric</th>\n",
       "    </tr>\n",
       "  </thead>\n",
       "  <tbody>\n",
       "    <tr>\n",
       "      <th>0</th>\n",
       "      <td>2112</td>\n",
       "      <td>2112 (1976)</td>\n",
       "      <td>Hard Rock|Progressive Rock|Art Rock|Psychedeli...</td>\n",
       "      <td>Rush</td>\n",
       "      <td>classic rock</td>\n",
       "      <td>yeah whoa yeah yeah yeah and the meek shall in...</td>\n",
       "    </tr>\n",
       "    <tr>\n",
       "      <th>1</th>\n",
       "      <td>A Passage to Bangkok</td>\n",
       "      <td>2112 (1976)</td>\n",
       "      <td>Hard Rock|Progressive Rock|Art Rock|Psychedeli...</td>\n",
       "      <td>Rush</td>\n",
       "      <td>classic rock</td>\n",
       "      <td>our first stop is in bogota to check colombian...</td>\n",
       "    </tr>\n",
       "    <tr>\n",
       "      <th>3</th>\n",
       "      <td>Something for Nothing</td>\n",
       "      <td>2112 (1976)</td>\n",
       "      <td>Hard Rock|Progressive Rock|Art Rock|Psychedeli...</td>\n",
       "      <td>Rush</td>\n",
       "      <td>classic rock</td>\n",
       "      <td>waiting for the winds of change to sweep the c...</td>\n",
       "    </tr>\n",
       "    <tr>\n",
       "      <th>5</th>\n",
       "      <td>The Twilight Zone</td>\n",
       "      <td>2112 (1976)</td>\n",
       "      <td>Hard Rock|Progressive Rock|Art Rock|Psychedeli...</td>\n",
       "      <td>Rush</td>\n",
       "      <td>classic rock</td>\n",
       "      <td>a pleasant faced man steps up to greet you he ...</td>\n",
       "    </tr>\n",
       "    <tr>\n",
       "      <th>6</th>\n",
       "      <td>Always Run To You</td>\n",
       "      <td>7800 Degrees Fahrenheit (1985)</td>\n",
       "      <td>Glam Metal|Hard Rock|Country Rock</td>\n",
       "      <td>Bon Jovi</td>\n",
       "      <td>classic rock</td>\n",
       "      <td>the clock strikes ten  out on the streets agai...</td>\n",
       "    </tr>\n",
       "    <tr>\n",
       "      <th>...</th>\n",
       "      <td>...</td>\n",
       "      <td>...</td>\n",
       "      <td>...</td>\n",
       "      <td>...</td>\n",
       "      <td>...</td>\n",
       "      <td>...</td>\n",
       "    </tr>\n",
       "    <tr>\n",
       "      <th>122809</th>\n",
       "      <td>You'll Always Reap What You Sow</td>\n",
       "      <td>Dreamtime (1986)</td>\n",
       "      <td>Punk Rock|Rock</td>\n",
       "      <td>The Stranglers</td>\n",
       "      <td>alt rock</td>\n",
       "      <td>to think i knew you when you had nothing at al...</td>\n",
       "    </tr>\n",
       "    <tr>\n",
       "      <th>122810</th>\n",
       "      <td>You're All I Need to Get By</td>\n",
       "      <td>30 Greatest Hits (1986)</td>\n",
       "      <td>Soul|R&amp;B|Jazz|Blues|Gospel</td>\n",
       "      <td>Aretha Franklin</td>\n",
       "      <td>rhythm and blues</td>\n",
       "      <td>youre all i need to get by youre all i need to...</td>\n",
       "    </tr>\n",
       "    <tr>\n",
       "      <th>122811</th>\n",
       "      <td>You're Mine Tonight</td>\n",
       "      <td>Winner In You (1986)</td>\n",
       "      <td>R&amp;B|Soul|Funk|Disco|Gospel</td>\n",
       "      <td>Patti LaBelle</td>\n",
       "      <td>rhythm and blues</td>\n",
       "      <td>im the kind of a lady i always get what i want...</td>\n",
       "    </tr>\n",
       "    <tr>\n",
       "      <th>122812</th>\n",
       "      <td>You're My Love</td>\n",
       "      <td>They Don't Make Them Like They Used To (1986)</td>\n",
       "      <td>Jazz</td>\n",
       "      <td>Kenny Rogers</td>\n",
       "      <td>Country</td>\n",
       "      <td>you wanna know if i care for you you ought to ...</td>\n",
       "    </tr>\n",
       "    <tr>\n",
       "      <th>122815</th>\n",
       "      <td>Your Wildest Dreams</td>\n",
       "      <td>The Other Side of Life (1986)</td>\n",
       "      <td>Progressive Rock|Psychedelic Rock|Art Rock|Sym...</td>\n",
       "      <td>The Moody Blues</td>\n",
       "      <td>classic rock</td>\n",
       "      <td>once upon a time once when you were mine i rem...</td>\n",
       "    </tr>\n",
       "  </tbody>\n",
       "</table>\n",
       "<p>98356 rows × 6 columns</p>\n",
       "</div>"
      ],
      "text/plain": [
       "                                   song  \\\n",
       "0                                  2112   \n",
       "1                  A Passage to Bangkok   \n",
       "3                 Something for Nothing   \n",
       "5                     The Twilight Zone   \n",
       "6                     Always Run To You   \n",
       "...                                 ...   \n",
       "122809  You'll Always Reap What You Sow   \n",
       "122810      You're All I Need to Get By   \n",
       "122811              You're Mine Tonight   \n",
       "122812                   You're My Love   \n",
       "122815              Your Wildest Dreams   \n",
       "\n",
       "                                                album  \\\n",
       "0                                         2112 (1976)   \n",
       "1                                         2112 (1976)   \n",
       "3                                         2112 (1976)   \n",
       "5                                         2112 (1976)   \n",
       "6                      7800 Degrees Fahrenheit (1985)   \n",
       "...                                               ...   \n",
       "122809                               Dreamtime (1986)   \n",
       "122810                        30 Greatest Hits (1986)   \n",
       "122811                           Winner In You (1986)   \n",
       "122812  They Don't Make Them Like They Used To (1986)   \n",
       "122815                  The Other Side of Life (1986)   \n",
       "\n",
       "                                                    genre           artist  \\\n",
       "0       Hard Rock|Progressive Rock|Art Rock|Psychedeli...             Rush   \n",
       "1       Hard Rock|Progressive Rock|Art Rock|Psychedeli...             Rush   \n",
       "3       Hard Rock|Progressive Rock|Art Rock|Psychedeli...             Rush   \n",
       "5       Hard Rock|Progressive Rock|Art Rock|Psychedeli...             Rush   \n",
       "6                       Glam Metal|Hard Rock|Country Rock         Bon Jovi   \n",
       "...                                                   ...              ...   \n",
       "122809                                     Punk Rock|Rock   The Stranglers   \n",
       "122810                         Soul|R&B|Jazz|Blues|Gospel  Aretha Franklin   \n",
       "122811                         R&B|Soul|Funk|Disco|Gospel    Patti LaBelle   \n",
       "122812                                               Jazz     Kenny Rogers   \n",
       "122815  Progressive Rock|Psychedelic Rock|Art Rock|Sym...  The Moody Blues   \n",
       "\n",
       "            ranker_genre                                              lyric  \n",
       "0           classic rock  yeah whoa yeah yeah yeah and the meek shall in...  \n",
       "1           classic rock  our first stop is in bogota to check colombian...  \n",
       "3           classic rock  waiting for the winds of change to sweep the c...  \n",
       "5           classic rock  a pleasant faced man steps up to greet you he ...  \n",
       "6           classic rock  the clock strikes ten  out on the streets agai...  \n",
       "...                  ...                                                ...  \n",
       "122809          alt rock  to think i knew you when you had nothing at al...  \n",
       "122810  rhythm and blues  youre all i need to get by youre all i need to...  \n",
       "122811  rhythm and blues  im the kind of a lady i always get what i want...  \n",
       "122812           Country  you wanna know if i care for you you ought to ...  \n",
       "122815      classic rock  once upon a time once when you were mine i rem...  \n",
       "\n",
       "[98356 rows x 6 columns]"
      ]
     },
     "execution_count": 104,
     "metadata": {},
     "output_type": "execute_result"
    }
   ],
   "source": [
    "train"
   ]
  },
  {
   "cell_type": "code",
   "execution_count": 106,
   "id": "8714a52b",
   "metadata": {},
   "outputs": [],
   "source": [
    "import joblib"
   ]
  },
  {
   "cell_type": "code",
   "execution_count": 105,
   "id": "bd75af97",
   "metadata": {},
   "outputs": [
    {
     "data": {
      "text/plain": [
       "0.5977105478331971"
      ]
     },
     "execution_count": 105,
     "metadata": {},
     "output_type": "execute_result"
    }
   ],
   "source": [
    "from sklearn.feature_extraction.text import CountVectorizer\n",
    "from sklearn.naive_bayes import MultinomialNB\n",
    "from sklearn.pipeline import Pipeline\n",
    "\n",
    "# define our model\n",
    "text_clf = Pipeline(\n",
    "    [('vect', CountVectorizer()),\n",
    "     ('clf', MultinomialNB(alpha=0.1))])\n",
    "\n",
    "# train our model on training data\n",
    "text_clf.fit(train.lyric, train.ranker_genre)  \n",
    "\n",
    "# score our model on testing data\n",
    "predicted = text_clf.predict(test.lyric)\n",
    "np.mean(predicted == test.ranker_genre)"
   ]
  },
  {
   "cell_type": "code",
   "execution_count": 211,
   "id": "6acec07f",
   "metadata": {},
   "outputs": [
    {
     "data": {
      "text/plain": [
       "0.8585949256804921"
      ]
     },
     "execution_count": 211,
     "metadata": {},
     "output_type": "execute_result"
    }
   ],
   "source": [
    "from sklearn.feature_extraction.text import TfidfTransformer, TfidfVectorizer\n",
    "\n",
    "# define our model\n",
    "text_clf = Pipeline(\n",
    "    [('vect', TfidfVectorizer()),\n",
    "     ('clf', MultinomialNB(alpha=0.1))])\n",
    "\n",
    "# train our model on training data\n",
    "text_clf.fit(train_df.lyric, train_df.ranker_genre)  \n",
    "\n",
    "# score our model on testing data\n",
    "predicted = text_clf.predict(test_df.lyric)\n",
    "np.mean(predicted == test_df.ranker_genre)"
   ]
  },
  {
   "cell_type": "code",
   "execution_count": 115,
   "id": "b26f3142",
   "metadata": {},
   "outputs": [],
   "source": [
    "import nltk\n",
    "\n",
    "nltk.download('stopwords')\n",
    "nltk.download('punkt')\n",
    "nltk.download('wordnet')\n",
    "nltk.download('omw-1.4')"
   ]
  },
  {
   "cell_type": "code",
   "execution_count": 124,
   "id": "52d14150",
   "metadata": {},
   "outputs": [
    {
     "name": "stderr",
     "output_type": "stream",
     "text": [
      "/Users/timdobbins/.local/share/virtualenvs/ds-meetup-ml-repro-5j99aBHa/lib/python3.8/site-packages/sklearn/feature_extraction/text.py:404: UserWarning: Your stop_words may be inconsistent with your preprocessing. Tokenizing the stop words generated tokens ['wo'] not in stop_words.\n",
      "  warnings.warn(\n"
     ]
    },
    {
     "data": {
      "text/plain": [
       "0.5346252343110595"
      ]
     },
     "execution_count": 124,
     "metadata": {},
     "output_type": "execute_result"
    }
   ],
   "source": [
    "from sklearn.naive_bayes import MultinomialNB\n",
    "from sklearn.pipeline import Pipeline\n",
    "from nltk import word_tokenize\n",
    "from nltk.stem import WordNetLemmatizer\n",
    "\n",
    "stop = list(set(stopwords.words('english'))) # stopwords\n",
    "wnl = WordNetLemmatizer() # lemmatizer\n",
    "\n",
    "def tokenizer(x): # custom tokenizer\n",
    "    return (\n",
    "        wnl.lemmatize(w) \n",
    "        for w in word_tokenize(x) \n",
    "        if len(w)==2 and w.isalnum() # only words that are  2 characters\n",
    "    )                                 # and is alpha-numeric\n",
    "\n",
    "# define our model\n",
    "text_clf = Pipeline(\n",
    "    [('vect', TfidfVectorizer(\n",
    "        ngram_range=(1, 2), # include bigrams\n",
    "        tokenizer=tokenizer,\n",
    "        stop_words=stop,\n",
    "        max_df=0.4, # ignore terms that appear in more than 40% of documents\n",
    "        min_df=4)), # ignore terms that appear in less than 4 documents\n",
    "     ('tfidf', TfidfTransformer()),\n",
    "     ('clf', MultinomialNB(alpha=0.1))])\n",
    "\n",
    "# train our model on training data\n",
    "text_clf.fit(train_df.lyric, train_df.ranker_genre)  \n",
    "\n",
    "# score our model on testing data\n",
    "predicted = text_clf.predict(test_df.lyric)\n",
    "np.mean(predicted == test_df.ranker_genre)"
   ]
  },
  {
   "cell_type": "code",
   "execution_count": 107,
   "id": "072c3093",
   "metadata": {
    "scrolled": false
   },
   "outputs": [
    {
     "data": {
      "text/plain": [
       "['../model_artifacts/model.pkl']"
      ]
     },
     "execution_count": 107,
     "metadata": {},
     "output_type": "execute_result"
    }
   ],
   "source": [
    "joblib.dump(text_clf, \"../model_artifacts/model.pkl\")"
   ]
  },
  {
   "cell_type": "code",
   "execution_count": 229,
   "id": "ec4c59ed",
   "metadata": {},
   "outputs": [],
   "source": [
    "from sklearn.metrics import confusion_matrix, precision_score, recall_score, f1_score\n",
    "\n",
    "mat = confusion_matrix(test_df.ranker_genre, predicted)\n",
    "precision = precision_score(test_df.ranker_genre, predicted, average=\"weighted\")\n",
    "recall = recall_score(test_df.ranker_genre, predicted, average=\"weighted\")\n",
    "f1 = f1_score(test_df.ranker_genre, predicted, average=\"weighted\")\n",
    "tps = np.trace(mat)\n",
    "fps = (np.sum(mat, axis=0) - np.diagonal(mat)).sum()\n",
    "fns = (np.sum(mat, axis=1) - np.diagonal(mat)).sum()"
   ]
  },
  {
   "cell_type": "code",
   "execution_count": 236,
   "id": "b4b2df70",
   "metadata": {
    "scrolled": false
   },
   "outputs": [
    {
     "data": {
      "text/html": [
       "<div>\n",
       "<style scoped>\n",
       "    .dataframe tbody tr th:only-of-type {\n",
       "        vertical-align: middle;\n",
       "    }\n",
       "\n",
       "    .dataframe tbody tr th {\n",
       "        vertical-align: top;\n",
       "    }\n",
       "\n",
       "    .dataframe thead th {\n",
       "        text-align: right;\n",
       "    }\n",
       "</style>\n",
       "<table border=\"1\" class=\"dataframe\">\n",
       "  <thead>\n",
       "    <tr style=\"text-align: right;\">\n",
       "      <th></th>\n",
       "      <th>p_Country</th>\n",
       "      <th>p_alt rock</th>\n",
       "      <th>p_Hip Hop</th>\n",
       "    </tr>\n",
       "  </thead>\n",
       "  <tbody>\n",
       "    <tr>\n",
       "      <th>t_Country</th>\n",
       "      <td>15248</td>\n",
       "      <td>243</td>\n",
       "      <td>859</td>\n",
       "    </tr>\n",
       "    <tr>\n",
       "      <th>t_alt rock</th>\n",
       "      <td>32</td>\n",
       "      <td>1322</td>\n",
       "      <td>55</td>\n",
       "    </tr>\n",
       "    <tr>\n",
       "      <th>t_Hip Hop</th>\n",
       "      <td>2992</td>\n",
       "      <td>1175</td>\n",
       "      <td>15951</td>\n",
       "    </tr>\n",
       "  </tbody>\n",
       "</table>\n",
       "</div>"
      ],
      "text/plain": [
       "            p_Country  p_alt rock  p_Hip Hop\n",
       "t_Country       15248         243        859\n",
       "t_alt rock         32        1322         55\n",
       "t_Hip Hop        2992        1175      15951"
      ]
     },
     "execution_count": 236,
     "metadata": {},
     "output_type": "execute_result"
    }
   ],
   "source": [
    "cm_df"
   ]
  },
  {
   "cell_type": "code",
   "execution_count": 226,
   "id": "3c8acaa5",
   "metadata": {},
   "outputs": [
    {
     "data": {
      "text/plain": [
       "array([15248,  1322, 15951])"
      ]
     },
     "execution_count": 226,
     "metadata": {},
     "output_type": "execute_result"
    }
   ],
   "source": [
    "np.diagonal(mat)"
   ]
  },
  {
   "cell_type": "code",
   "execution_count": 227,
   "id": "91613c2a",
   "metadata": {
    "scrolled": true
   },
   "outputs": [
    {
     "data": {
      "text/plain": [
       "array([1102,   87, 4167])"
      ]
     },
     "execution_count": 227,
     "metadata": {},
     "output_type": "execute_result"
    }
   ],
   "source": [
    "(np.sum(mat, axis=1) - np.diagonal(mat))"
   ]
  },
  {
   "cell_type": "code",
   "execution_count": 228,
   "id": "7f8b2f35",
   "metadata": {},
   "outputs": [
    {
     "data": {
      "text/plain": [
       "array([3024, 1418,  914])"
      ]
     },
     "execution_count": 228,
     "metadata": {},
     "output_type": "execute_result"
    }
   ],
   "source": [
    "(np.sum(mat, axis=0) - np.diagonal(mat))"
   ]
  },
  {
   "cell_type": "code",
   "execution_count": 230,
   "id": "05f87ca5",
   "metadata": {},
   "outputs": [],
   "source": [
    "metrics = {\n",
    "    \"precision\": precision.item(),\n",
    "    \"recall\": recall.item(),\n",
    "    \"f1\": f1.item(),\n",
    "    \"tps\": tps.item(), \n",
    "    \"fns\": fns.item(),\n",
    "    \"fps\": fps.item()\n",
    "}"
   ]
  },
  {
   "cell_type": "code",
   "execution_count": 231,
   "id": "ac402a4e",
   "metadata": {},
   "outputs": [
    {
     "data": {
      "text/plain": [
       "{'precision': 0.8805240519243002,\n",
       " 'recall': 0.8585949256804921,\n",
       " 'f1': 0.8620922064138449,\n",
       " 'tps': 32521,\n",
       " 'fns': 5356,\n",
       " 'fps': 5356}"
      ]
     },
     "execution_count": 231,
     "metadata": {},
     "output_type": "execute_result"
    }
   ],
   "source": [
    "metrics"
   ]
  },
  {
   "cell_type": "code",
   "execution_count": 220,
   "id": "5207a34f",
   "metadata": {},
   "outputs": [
    {
     "data": {
      "text/html": [
       "<div>\n",
       "<style scoped>\n",
       "    .dataframe tbody tr th:only-of-type {\n",
       "        vertical-align: middle;\n",
       "    }\n",
       "\n",
       "    .dataframe tbody tr th {\n",
       "        vertical-align: top;\n",
       "    }\n",
       "\n",
       "    .dataframe thead th {\n",
       "        text-align: right;\n",
       "    }\n",
       "</style>\n",
       "<table border=\"1\" class=\"dataframe\">\n",
       "  <thead>\n",
       "    <tr style=\"text-align: right;\">\n",
       "      <th></th>\n",
       "      <th>p_Country</th>\n",
       "      <th>p_alt rock</th>\n",
       "      <th>p_Hip Hop</th>\n",
       "    </tr>\n",
       "  </thead>\n",
       "  <tbody>\n",
       "    <tr>\n",
       "      <th>t_Country</th>\n",
       "      <td>15248</td>\n",
       "      <td>243</td>\n",
       "      <td>859</td>\n",
       "    </tr>\n",
       "    <tr>\n",
       "      <th>t_alt rock</th>\n",
       "      <td>32</td>\n",
       "      <td>1322</td>\n",
       "      <td>55</td>\n",
       "    </tr>\n",
       "    <tr>\n",
       "      <th>t_Hip Hop</th>\n",
       "      <td>2992</td>\n",
       "      <td>1175</td>\n",
       "      <td>15951</td>\n",
       "    </tr>\n",
       "  </tbody>\n",
       "</table>\n",
       "</div>"
      ],
      "text/plain": [
       "            p_Country  p_alt rock  p_Hip Hop\n",
       "t_Country       15248         243        859\n",
       "t_alt rock         32        1322         55\n",
       "t_Hip Hop        2992        1175      15951"
      ]
     },
     "execution_count": 220,
     "metadata": {},
     "output_type": "execute_result"
    }
   ],
   "source": [
    "cm_df = pd.DataFrame(mat, index=['t_' + col for col in genres], columns=['p_' + col for col in genres])\n",
    "\n",
    "cm_df"
   ]
  },
  {
   "cell_type": "code",
   "execution_count": 196,
   "id": "ace2843d",
   "metadata": {
    "scrolled": true
   },
   "outputs": [
    {
     "data": {
      "text/plain": [
       "(Country    10521\n",
       " Name: Country, dtype: int64,\n",
       " alt rock    1148\n",
       " Hip Hop     4681\n",
       " Name: Country, dtype: int64)"
      ]
     },
     "execution_count": 196,
     "metadata": {},
     "output_type": "execute_result"
    }
   ],
   "source": [
    "cm_df.loc['Country',['Country']], cm_df.loc['Country',['alt rock', 'Hip Hop']]"
   ]
  },
  {
   "cell_type": "code",
   "execution_count": null,
   "id": "85ef2fa1",
   "metadata": {},
   "outputs": [],
   "source": []
  },
  {
   "cell_type": "code",
   "execution_count": null,
   "id": "f105fe72",
   "metadata": {},
   "outputs": [],
   "source": []
  },
  {
   "cell_type": "code",
   "execution_count": null,
   "id": "8fe664b6",
   "metadata": {},
   "outputs": [],
   "source": []
  },
  {
   "cell_type": "code",
   "execution_count": null,
   "id": "a3364f87",
   "metadata": {},
   "outputs": [],
   "source": []
  },
  {
   "cell_type": "code",
   "execution_count": null,
   "id": "82e1ac6a",
   "metadata": {},
   "outputs": [],
   "source": []
  },
  {
   "cell_type": "code",
   "execution_count": null,
   "id": "16ebca86",
   "metadata": {},
   "outputs": [],
   "source": []
  },
  {
   "cell_type": "code",
   "execution_count": null,
   "id": "a7e7b726",
   "metadata": {},
   "outputs": [],
   "source": []
  },
  {
   "cell_type": "code",
   "execution_count": null,
   "id": "35a2e463",
   "metadata": {},
   "outputs": [],
   "source": []
  },
  {
   "cell_type": "code",
   "execution_count": null,
   "id": "ccde8eba",
   "metadata": {},
   "outputs": [],
   "source": []
  },
  {
   "cell_type": "code",
   "execution_count": null,
   "id": "9e2536f6",
   "metadata": {},
   "outputs": [],
   "source": []
  },
  {
   "cell_type": "code",
   "execution_count": null,
   "id": "536dd056",
   "metadata": {},
   "outputs": [],
   "source": []
  },
  {
   "cell_type": "code",
   "execution_count": null,
   "id": "f8c9d09a",
   "metadata": {},
   "outputs": [],
   "source": []
  },
  {
   "cell_type": "code",
   "execution_count": null,
   "id": "5b981ae4",
   "metadata": {},
   "outputs": [],
   "source": []
  }
 ],
 "metadata": {
  "kernelspec": {
   "display_name": "reproml",
   "language": "python",
   "name": "reproml"
  },
  "language_info": {
   "codemirror_mode": {
    "name": "ipython",
    "version": 3
   },
   "file_extension": ".py",
   "mimetype": "text/x-python",
   "name": "python",
   "nbconvert_exporter": "python",
   "pygments_lexer": "ipython3",
   "version": "3.8.9"
  }
 },
 "nbformat": 4,
 "nbformat_minor": 5
}
